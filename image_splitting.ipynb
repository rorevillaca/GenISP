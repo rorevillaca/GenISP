{
 "cells": [
  {
   "cell_type": "code",
   "execution_count": 2,
   "metadata": {},
   "outputs": [],
   "source": [
    "import json"
   ]
  },
  {
   "cell_type": "code",
   "execution_count": 43,
   "metadata": {},
   "outputs": [
    {
     "data": {
      "text/plain": [
       "2571"
      ]
     },
     "execution_count": 43,
     "metadata": {},
     "output_type": "execute_result"
    }
   ],
   "source": [
    "\n",
    "with open('raw_new_Sony_RX100m7_train.json', 'r') as f:\n",
    "  train = json.load(f)\n",
    "\n",
    "dicts = train[\"images\"]\n",
    "\n",
    "images = [image[\"id\"] for image in dicts]\n",
    "\n",
    "len(images)"
   ]
  },
  {
   "cell_type": "code",
   "execution_count": 57,
   "metadata": {},
   "outputs": [],
   "source": [
    "import shutil\n",
    "\n",
    "filepath = r\"C:/Users/Revi/Desktop/Sony/Sony/\"\n",
    "\n",
    "destination = r\"C:/Users/Revi/Desktop/Sony/sony_train\"\n",
    "\n",
    "for image in images:\n",
    "    filename = filepath + image + \".ARW\"\n",
    "    shutil.copy(filename,destination)"
   ]
  },
  {
   "cell_type": "code",
   "execution_count": 58,
   "metadata": {},
   "outputs": [
    {
     "name": "stdout",
     "output_type": "stream",
     "text": [
      "321\n"
     ]
    }
   ],
   "source": [
    "\n",
    "filepath = r\"C:/Users/Revi/Desktop/Sony/Sony/\"\n",
    "destination = r\"C:/Users/Revi/Desktop/Sony/sony_val\"\n",
    "\n",
    "with open('raw_new_Sony_RX100m7_val.json', 'r') as f:\n",
    "  train = json.load(f)\n",
    "\n",
    "dicts = train[\"images\"]\n",
    "images = [image[\"id\"] for image in dicts]\n",
    "print(len(images))\n",
    "\n",
    "for image in images:\n",
    "    filename = filepath + image + \".ARW\"\n",
    "    shutil.copy(filename,destination)"
   ]
  },
  {
   "cell_type": "code",
   "execution_count": 66,
   "metadata": {},
   "outputs": [
    {
     "name": "stdout",
     "output_type": "stream",
     "text": [
      "['DSC01993.ARW', 'DSC01808.ARW', 'DSC01736.ARW', 'DSC01592.ARW', 'DSC02708.ARW', 'DSC01166.ARW', 'DSC02006.ARW', 'DSC01177.ARW', 'DSC02949.ARW', 'DSC03122.ARW', 'DSC02405.ARW', 'DSC02196.ARW', 'DSC02084.ARW', 'DSC04044.ARW', 'DSC04367.ARW', 'DSC04046.ARW', 'DSC03350.ARW', 'DSC04431.ARW', 'DSC03318.ARW', 'DSC04327.ARW', 'DSC03301.ARW', 'DSC03989.ARW', 'DSC02805.ARW', 'DSC02794.ARW', 'DSC02543.ARW', 'DSC01323.ARW', 'DSC01770.ARW', 'DSC02297.ARW', 'DSC01936.ARW', 'DSC04517.ARW', 'DSC04476.ARW', 'DSC03458.ARW', 'DSC02927.ARW', 'DSC02347.ARW', 'DSC02159.ARW', 'DSC04459.ARW', 'DSC04118.ARW', 'DSC01172.ARW', 'DSC04483.ARW', 'DSC03922.ARW', 'DSC02342.ARW', 'DSC03283.ARW', 'DSC01799.ARW', 'DSC01120.ARW', 'DSC02560.ARW', 'DSC03585.ARW', 'DSC01939.ARW', 'DSC04154.ARW', 'DSC02852.ARW', 'DSC03883.ARW', 'DSC01697.ARW', 'DSC01206.ARW', 'DSC01521.ARW', 'DSC02039.ARW', 'DSC02373.ARW', 'DSC01550.ARW', 'DSC01324.ARW', 'DSC03229.ARW', 'DSC01544.ARW', 'DSC01338.ARW', 'DSC01284.ARW', 'DSC01959.ARW', 'DSC03140.ARW', 'DSC02107.ARW', 'DSC04061.ARW', 'DSC01321.ARW', 'DSC03933.ARW', 'DSC03859.ARW', 'DSC01394.ARW', 'DSC02880.ARW', 'DSC03117.ARW', 'DSC01473.ARW', 'DSC01111.ARW', 'DSC01556.ARW', 'DSC01096.ARW', 'DSC03964.ARW', 'DSC01988.ARW', 'DSC04438.ARW', 'DSC03839.ARW', 'DSC04608.ARW', 'DSC01903.ARW', 'DSC03145.ARW', 'DSC01710.ARW', 'DSC03697.ARW', 'DSC04032.ARW', 'DSC04155.ARW', 'DSC01659.ARW', 'DSC01237.ARW', 'DSC02526.ARW', 'DSC02932.ARW', 'DSC04452.ARW', 'DSC02471.ARW', 'DSC03710.ARW', 'DSC01937.ARW', 'DSC03247.ARW', 'DSC01128.ARW', 'DSC01630.ARW', 'DSC03992.ARW', 'DSC02981.ARW', 'DSC02499.ARW', 'DSC03163.ARW', 'DSC04003.ARW', 'DSC03128.ARW', 'DSC02771.ARW', 'DSC01443.ARW', 'DSC02054.ARW', 'DSC02284.ARW', 'DSC03003.ARW', 'DSC01353.ARW', 'DSC02980.ARW', 'DSC03672.ARW', 'DSC04320.ARW', 'DSC01948.ARW', 'DSC03219.ARW', 'DSC02436.ARW', 'DSC02021.ARW', 'DSC02532.ARW', 'DSC03041.ARW', 'DSC03443.ARW', 'DSC04374.ARW', 'DSC01421.ARW', 'DSC01596.ARW', 'DSC03508.ARW', 'DSC02199.ARW', 'DSC03351.ARW', 'DSC01349.ARW', 'DSC01850.ARW', 'DSC01706.ARW', 'DSC01718.ARW', 'DSC02417.ARW', 'DSC03461.ARW', 'DSC02365.ARW', 'DSC01854.ARW', 'DSC04140.ARW', 'DSC04337.ARW', 'DSC04437.ARW', 'DSC03919.ARW', 'DSC01597.ARW', 'DSC03302.ARW', 'DSC03786.ARW', 'DSC04167.ARW', 'DSC01982.ARW', 'DSC03055.ARW', 'DSC01832.ARW', 'DSC01673.ARW', 'DSC02691.ARW', 'DSC02434.ARW', 'DSC02476.ARW', 'DSC01891.ARW', 'DSC04297.ARW', 'DSC03307.ARW', 'DSC02455.ARW', 'DSC02061.ARW', 'DSC03849.ARW', 'DSC03476.ARW', 'DSC02041.ARW', 'DSC04488.ARW', 'DSC01307.ARW', 'DSC01101.ARW', 'DSC01649.ARW', 'DSC01806.ARW', 'DSC01116.ARW', 'DSC02987.ARW', 'DSC03107.ARW', 'DSC04113.ARW', 'DSC01154.ARW', 'DSC02191.ARW', 'DSC01369.ARW', 'DSC01671.ARW', 'DSC03359.ARW', 'DSC01185.ARW', 'DSC04170.ARW', 'DSC01586.ARW', 'DSC04229.ARW', 'DSC01301.ARW', 'DSC02625.ARW', 'DSC01728.ARW', 'DSC03251.ARW', 'DSC02483.ARW', 'DSC03677.ARW', 'DSC02620.ARW', 'DSC01336.ARW', 'DSC03498.ARW', 'DSC03811.ARW', 'DSC03545.ARW', 'DSC03256.ARW', 'DSC03549.ARW', 'DSC02671.ARW', 'DSC03352.ARW', 'DSC01652.ARW', 'DSC02449.ARW', 'DSC01238.ARW', 'DSC01901.ARW', 'DSC03486.ARW', 'DSC02579.ARW', 'DSC03092.ARW', 'DSC04619.ARW', 'DSC03637.ARW', 'DSC03773.ARW', 'DSC02367.ARW', 'DSC03860.ARW', 'DSC03438.ARW', 'DSC04306.ARW', 'DSC03533.ARW', 'DSC01836.ARW', 'DSC02869.ARW', 'DSC02272.ARW', 'DSC02600.ARW', 'DSC03296.ARW', 'DSC03468.ARW', 'DSC01790.ARW', 'DSC01611.ARW', 'DSC02528.ARW', 'DSC01435.ARW', 'DSC02836.ARW', 'DSC03353.ARW', 'DSC04423.ARW', 'DSC03091.ARW', 'DSC02598.ARW', 'DSC01175.ARW', 'DSC01532.ARW', 'DSC01701.ARW', 'DSC03212.ARW', 'DSC02156.ARW', 'DSC01363.ARW', 'DSC03562.ARW', 'DSC02046.ARW', 'DSC01289.ARW', 'DSC03689.ARW', 'DSC01425.ARW', 'DSC03804.ARW', 'DSC01389.ARW', 'DSC03277.ARW', 'DSC02988.ARW', 'DSC04317.ARW', 'DSC01735.ARW', 'DSC04039.ARW', 'DSC01282.ARW', 'DSC03947.ARW', 'DSC03536.ARW', 'DSC03994.ARW', 'DSC04531.ARW', 'DSC03792.ARW', 'DSC04126.ARW', 'DSC02848.ARW', 'DSC02517.ARW', 'DSC04212.ARW', 'DSC02394.ARW', 'DSC01169.ARW', 'DSC02205.ARW', 'DSC01591.ARW', 'DSC04238.ARW', 'DSC01212.ARW', 'DSC02018.ARW', 'DSC01613.ARW', 'DSC01199.ARW', 'DSC01150.ARW', 'DSC04394.ARW', 'DSC04472.ARW', 'DSC04553.ARW', 'DSC03356.ARW', 'DSC04308.ARW', 'DSC04519.ARW', 'DSC03926.ARW', 'DSC01452.ARW', 'DSC03638.ARW', 'DSC02677.ARW', 'DSC01437.ARW', 'DSC03415.ARW', 'DSC02034.ARW', 'DSC04153.ARW', 'DSC02093.ARW', 'DSC03864.ARW', 'DSC01968.ARW', 'DSC03534.ARW', 'DSC01364.ARW', 'DSC03998.ARW', 'DSC02781.ARW', 'DSC03983.ARW', 'DSC02333.ARW', 'DSC04316.ARW', 'DSC03188.ARW', 'DSC03454.ARW', 'DSC02029.ARW', 'DSC02123.ARW', 'DSC01140.ARW', 'DSC04340.ARW', 'DSC01455.ARW', 'DSC03288.ARW', 'DSC03282.ARW', 'DSC01352.ARW', 'DSC04037.ARW', 'DSC03129.ARW', 'DSC01907.ARW', 'DSC02420.ARW', 'DSC01217.ARW', 'DSC03373.ARW', 'DSC03546.ARW', 'DSC01981.ARW', 'DSC03009.ARW', 'DSC01647.ARW', 'DSC04551.ARW', 'DSC01788.ARW', 'DSC04529.ARW', 'DSC01967.ARW', 'DSC02976.ARW', 'DSC01198.ARW', 'DSC02735.ARW', 'DSC02275.ARW', 'DSC03777.ARW', 'DSC02778.ARW', 'DSC01776.ARW', 'DSC03342.ARW', 'DSC01100.ARW', 'DSC03044.ARW', 'DSC03237.ARW', 'DSC02971.ARW', 'DSC04177.ARW', 'DSC02885.ARW', 'DSC03027.ARW', 'DSC03001.ARW']\n",
      "321\n"
     ]
    }
   ],
   "source": [
    "\n",
    "filepath = r\"C:/Users/Revi/Desktop/Sony/Sony/\"\n",
    "destination = r\"C:/Users/Revi/Desktop/Sony/sony_test\"\n",
    "\n",
    "with open('raw_str_labeled_new_Sony_RX100m7_test.json', 'r') as f:\n",
    "  train = json.load(f)\n",
    "\n",
    "dicts = train[\"images\"]\n",
    "images = [image[\"file_name\"] for image in dicts]\n",
    "print(images)\n",
    "print(len(images))\n",
    "\n",
    "for image in images:\n",
    "    filename = filepath + image\n",
    "    shutil.copy(filename,destination)"
   ]
  }
 ],
 "metadata": {
  "kernelspec": {
   "display_name": "Python 3",
   "language": "python",
   "name": "python3"
  },
  "language_info": {
   "codemirror_mode": {
    "name": "ipython",
    "version": 3
   },
   "file_extension": ".py",
   "mimetype": "text/x-python",
   "name": "python",
   "nbconvert_exporter": "python",
   "pygments_lexer": "ipython3",
   "version": "3.10.5"
  },
  "orig_nbformat": 4
 },
 "nbformat": 4,
 "nbformat_minor": 2
}
