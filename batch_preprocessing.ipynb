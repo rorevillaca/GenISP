{
 "cells": [
  {
   "cell_type": "code",
   "execution_count": 1,
   "metadata": {},
   "outputs": [],
   "source": [
    "import rawpy\n",
    "import imageio\n",
    "import torch\n",
    "import matplotlib.pyplot as plt\n",
    "import cv2\n",
    "import numpy as np\n",
    "import torch.nn.functional as F\n",
    "from PIL import Image\n",
    "import random\n",
    "import os"
   ]
  },
  {
   "cell_type": "code",
   "execution_count": 2,
   "metadata": {},
   "outputs": [],
   "source": [
    "def pack_avg_cst(dir_path,raw_filename):\n",
    "    raw_filename = raw_filename.split(\".\")[0]\n",
    "    current_path = dir_path + \"/\" + raw_filename + \".ARW\"\n",
    "    with rawpy.imread(current_path) as raw:\n",
    "        # Get raw image data\n",
    "        image = np.array(raw.raw_image, dtype=np.float16)\n",
    "        # subtract black levels and normalize to interval [0..1]\n",
    "        black = np.reshape(np.array(raw.black_level_per_channel, dtype=np.float16), (2, 2))\n",
    "        black = np.tile(black, (image.shape[0]//2, image.shape[1]//2))\n",
    "        image = ((image - black) / (raw.white_level - black))\n",
    "        # Get the raw pattern of the photo\n",
    "        n_colors = raw.num_colors\n",
    "        colors = np.frombuffer(raw.color_desc, dtype=np.byte)\n",
    "        pattern = np.array(raw.raw_pattern)\n",
    "        i_0 = np.where(colors[pattern] == colors[0])\n",
    "        i_1 = np.where(colors[pattern] == colors[1])\n",
    "        i_2 = np.where(colors[pattern] == colors[2])\n",
    "\n",
    "        # Pack image and average the green channels\n",
    "        image_packed = np.empty((image.shape[0]//2, image.shape[1]//2, n_colors))\n",
    "        \n",
    "        image_packed[:, :, 0] = image[i_0[0][0]::2, i_0[1][0]::2]\n",
    "        image_packed[:, :, 1]  = (image[i_1[0][0]::2, i_1[1][0]::2] + image[i_1[0][1]::2, i_1[1][1]::2]) / 2\n",
    "        image_packed[:, :, 2]  = image[i_2[0][0]::2, i_2[1][0]::2]\n",
    "\n",
    "        # CST Conversion\n",
    "        cst = raw.rgb_xyz_matrix[0:3, :]\n",
    "        image_XYZ = np.einsum('ij,...j', cst, image_packed)\n",
    "        image_XYZ = torch.from_numpy(image_XYZ)\n",
    "\n",
    "        print(image_XYZ.shape)\n",
    "        image_sRGB = np.clip(image_XYZ, 0, 1)\n",
    "        # show image\n",
    "        #plt.axis('off')\n",
    "        #plt.imshow(image_sRGB)\n",
    "        print(image_sRGB.shape)\n",
    "        im = Image.fromarray((np.asarray(image_sRGB) * 255).astype(np.uint8))\n",
    "        im.save('C:/Users/Revi/Desktop/Sony/preprocessed_pngs/'+raw_filename+\".png\")\n",
    "        #return image_XYZ #Returns Tensor with size [1,H,W,C]\n"
   ]
  },
  {
   "cell_type": "code",
   "execution_count": 4,
   "metadata": {},
   "outputs": [
    {
     "name": "stdout",
     "output_type": "stream",
     "text": [
      "torch.Size([1836, 2752, 3])\n",
      "torch.Size([1836, 2752, 3])\n"
     ]
    },
    {
     "ename": "FileNotFoundError",
     "evalue": "[Errno 2] No such file or directory: 'C:/Users/Revi/Desktop/Sony/preprocessed_pngs/DSC04122.png'",
     "output_type": "error",
     "traceback": [
      "\u001b[1;31m---------------------------------------------------------------------------\u001b[0m",
      "\u001b[1;31mFileNotFoundError\u001b[0m                         Traceback (most recent call last)",
      "\u001b[1;32mc:\\Users\\Revi\\Desktop\\Github\\GenISP\\batch_preprocessing.ipynb Cell 3\u001b[0m in \u001b[0;36m<cell line: 8>\u001b[1;34m()\u001b[0m\n\u001b[0;32m      <a href='vscode-notebook-cell:/c%3A/Users/Revi/Desktop/Github/GenISP/batch_preprocessing.ipynb#W2sZmlsZQ%3D%3D?line=7'>8</a>\u001b[0m \u001b[39mfor\u001b[39;00m current_image \u001b[39min\u001b[39;00m file_list[\u001b[39m2300\u001b[39m:\u001b[39m2320\u001b[39m]:\n\u001b[0;32m      <a href='vscode-notebook-cell:/c%3A/Users/Revi/Desktop/Github/GenISP/batch_preprocessing.ipynb#W2sZmlsZQ%3D%3D?line=8'>9</a>\u001b[0m     \u001b[39m#current_image = file_list[208]\u001b[39;00m\n\u001b[0;32m     <a href='vscode-notebook-cell:/c%3A/Users/Revi/Desktop/Github/GenISP/batch_preprocessing.ipynb#W2sZmlsZQ%3D%3D?line=9'>10</a>\u001b[0m     current_path \u001b[39m=\u001b[39m dir_path \u001b[39m+\u001b[39m \u001b[39m\"\u001b[39m\u001b[39m/\u001b[39m\u001b[39m\"\u001b[39m \u001b[39m+\u001b[39m current_image\n\u001b[1;32m---> <a href='vscode-notebook-cell:/c%3A/Users/Revi/Desktop/Github/GenISP/batch_preprocessing.ipynb#W2sZmlsZQ%3D%3D?line=10'>11</a>\u001b[0m     prep_image \u001b[39m=\u001b[39m pack_avg_cst(dir_path,current_image)\n",
      "\u001b[1;32mc:\\Users\\Revi\\Desktop\\Github\\GenISP\\batch_preprocessing.ipynb Cell 3\u001b[0m in \u001b[0;36mpack_avg_cst\u001b[1;34m(dir_path, raw_filename)\u001b[0m\n\u001b[0;32m     <a href='vscode-notebook-cell:/c%3A/Users/Revi/Desktop/Github/GenISP/batch_preprocessing.ipynb#W2sZmlsZQ%3D%3D?line=35'>36</a>\u001b[0m \u001b[39mprint\u001b[39m(image_sRGB\u001b[39m.\u001b[39mshape)\n\u001b[0;32m     <a href='vscode-notebook-cell:/c%3A/Users/Revi/Desktop/Github/GenISP/batch_preprocessing.ipynb#W2sZmlsZQ%3D%3D?line=36'>37</a>\u001b[0m im \u001b[39m=\u001b[39m Image\u001b[39m.\u001b[39mfromarray((np\u001b[39m.\u001b[39masarray(image_sRGB) \u001b[39m*\u001b[39m \u001b[39m255\u001b[39m)\u001b[39m.\u001b[39mastype(np\u001b[39m.\u001b[39muint8))\n\u001b[1;32m---> <a href='vscode-notebook-cell:/c%3A/Users/Revi/Desktop/Github/GenISP/batch_preprocessing.ipynb#W2sZmlsZQ%3D%3D?line=37'>38</a>\u001b[0m im\u001b[39m.\u001b[39;49msave(\u001b[39m'\u001b[39;49m\u001b[39mC:/Users/Revi/Desktop/Sony/preprocessed_pngs/\u001b[39;49m\u001b[39m'\u001b[39;49m\u001b[39m+\u001b[39;49mraw_filename\u001b[39m+\u001b[39;49m\u001b[39m\"\u001b[39;49m\u001b[39m.png\u001b[39;49m\u001b[39m\"\u001b[39;49m)\n",
      "File \u001b[1;32mc:\\Users\\Revi\\AppData\\Local\\Programs\\Python\\Python310\\lib\\site-packages\\PIL\\Image.py:2317\u001b[0m, in \u001b[0;36mImage.save\u001b[1;34m(self, fp, format, **params)\u001b[0m\n\u001b[0;32m   2315\u001b[0m         fp \u001b[39m=\u001b[39m builtins\u001b[39m.\u001b[39mopen(filename, \u001b[39m\"\u001b[39m\u001b[39mr+b\u001b[39m\u001b[39m\"\u001b[39m)\n\u001b[0;32m   2316\u001b[0m     \u001b[39melse\u001b[39;00m:\n\u001b[1;32m-> 2317\u001b[0m         fp \u001b[39m=\u001b[39m builtins\u001b[39m.\u001b[39;49mopen(filename, \u001b[39m\"\u001b[39;49m\u001b[39mw+b\u001b[39;49m\u001b[39m\"\u001b[39;49m)\n\u001b[0;32m   2319\u001b[0m \u001b[39mtry\u001b[39;00m:\n\u001b[0;32m   2320\u001b[0m     save_handler(\u001b[39mself\u001b[39m, fp, filename)\n",
      "\u001b[1;31mFileNotFoundError\u001b[0m: [Errno 2] No such file or directory: 'C:/Users/Revi/Desktop/Sony/preprocessed_pngs/DSC04122.png'"
     ]
    }
   ],
   "source": [
    "# List w/ all images in folder\n",
    "dir_path = 'C:/Users/Revi/Desktop/Sony/sony_train/'\n",
    "file_list = os.listdir(dir_path)\n",
    "random.seed(42)\n",
    "random.shuffle(file_list)\n",
    "\n",
    "\n",
    "for current_image in file_list[2300:2320]:\n",
    "    #current_image = file_list[208]\n",
    "    current_path = dir_path + \"/\" + current_image\n",
    "    prep_image = pack_avg_cst(dir_path,current_image)\n"
   ]
  },
  {
   "cell_type": "code",
   "execution_count": 9,
   "metadata": {},
   "outputs": [],
   "source": [
    "%reset -f"
   ]
  }
 ],
 "metadata": {
  "kernelspec": {
   "display_name": "Python 3",
   "language": "python",
   "name": "python3"
  },
  "language_info": {
   "codemirror_mode": {
    "name": "ipython",
    "version": 3
   },
   "file_extension": ".py",
   "mimetype": "text/x-python",
   "name": "python",
   "nbconvert_exporter": "python",
   "pygments_lexer": "ipython3",
   "version": "3.10.5"
  },
  "orig_nbformat": 4
 },
 "nbformat": 4,
 "nbformat_minor": 2
}
